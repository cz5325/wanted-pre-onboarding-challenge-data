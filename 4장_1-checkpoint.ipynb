{
 "cells": [
  {
   "cell_type": "code",
   "execution_count": 1,
   "id": "eed39b71",
   "metadata": {},
   "outputs": [
    {
     "name": "stdout",
     "output_type": "stream",
     "text": [
      "x는 1보다 큽니다\n"
     ]
    }
   ],
   "source": [
    "x = 100\n",
    "if x > 1:\n",
    "    print(\"x는 1보다 큽니다\")"
   ]
  },
  {
   "cell_type": "code",
   "execution_count": 2,
   "id": "de8b9036",
   "metadata": {},
   "outputs": [
    {
     "name": "stdout",
     "output_type": "stream",
     "text": [
      "점수를 입력하시오: 100\n",
      "축하합니다.\n",
      "합격입니다.\n",
      "장학금도 받을 수 있습니다.\n"
     ]
    }
   ],
   "source": [
    "score = int(input(\"점수를 입력하시오: \")) \n",
    "if score >= 90 :          # 조건이 참일 경우 들여쓰기 블록이 모두 실행됨\n",
    "    print(\"축하합니다.\") \n",
    "    print(\"합격입니다.\") \n",
    "    print(\"장학금도 받을 수 있습니다.\") "
   ]
  },
  {
   "cell_type": "code",
   "execution_count": 3,
   "id": "71ad0f98",
   "metadata": {},
   "outputs": [
    {
     "ename": "IndentationError",
     "evalue": "unexpected indent (2305727037.py, line 4)",
     "output_type": "error",
     "traceback": [
      "\u001b[1;36m  Cell \u001b[1;32mIn[3], line 4\u001b[1;36m\u001b[0m\n\u001b[1;33m    print(\"합격입니다.\")\u001b[0m\n\u001b[1;37m    ^\u001b[0m\n\u001b[1;31mIndentationError\u001b[0m\u001b[1;31m:\u001b[0m unexpected indent\n"
     ]
    }
   ],
   "source": [
    "score = int(input(\"점수를 입력하시오: \")) \n",
    "if score >= 90 :      # 주의 : 들여쓰기의 크기가 다를 경우 오류가 출력됨\n",
    " print(\"축하합니다.\") \n",
    "  print(\"합격입니다.\") \n",
    "   print(\"장학금도 받을 수 있습니다.\") "
   ]
  },
  {
   "cell_type": "code",
   "execution_count": 4,
   "id": "3fbb388b",
   "metadata": {},
   "outputs": [
    {
     "name": "stdout",
     "output_type": "stream",
     "text": [
      "합격입니다.\n"
     ]
    }
   ],
   "source": [
    "if score >= 60:\n",
    "    print(\"합격입니다.\")\n",
    "else:\n",
    "    print(\"불합격입니다.\")"
   ]
  },
  {
   "cell_type": "code",
   "execution_count": 5,
   "id": "96c8ebf3",
   "metadata": {},
   "outputs": [
    {
     "name": "stdout",
     "output_type": "stream",
     "text": [
      "오전입니다.\n"
     ]
    }
   ],
   "source": [
    "hour = 10\n",
    "\n",
    "if hour < 12:\n",
    "  print('오전입니다.')\n",
    "else:\n",
    "  print('오후입니다.')"
   ]
  },
  {
   "cell_type": "code",
   "execution_count": 7,
   "id": "99386d8e",
   "metadata": {},
   "outputs": [
    {
     "name": "stdout",
     "output_type": "stream",
     "text": [
      "성적을 입력하시오: 80\n",
      "합격입니다.\n"
     ]
    }
   ],
   "source": [
    "score = int(input(\"성적을 입력하시오: \")) \n",
    "if score >= 60: \n",
    "    print(\"합격입니다.\") \n",
    "else: \n",
    "    print(\"불합격입니다.\")"
   ]
  },
  {
   "cell_type": "code",
   "execution_count": 8,
   "id": "ea53450f",
   "metadata": {},
   "outputs": [
    {
     "name": "stdout",
     "output_type": "stream",
     "text": [
      "정수를 입력하시오: 10\n",
      "짝수입니다.\n"
     ]
    }
   ],
   "source": [
    "num = int(input(\"정수를 입력하시오: \"))\n",
    "if num % 2 == 0 :\n",
    "    print(\"짝수입니다.\")\n",
    "else:\n",
    "    print(\"홀수입니다.\")"
   ]
  },
  {
   "cell_type": "markdown",
   "id": "25ae7a5d",
   "metadata": {},
   "source": [
    "# LAB"
   ]
  },
  {
   "cell_type": "code",
   "execution_count": null,
   "id": "47f7b89b",
   "metadata": {},
   "outputs": [],
   "source": [
    "#4-1\n",
    "import turtle \n",
    "t = turtle.Turtle() \n",
    "t.shape(\"turtle\") \n",
    " \n",
    "t.penup()            \n",
    "t.goto(100, 100)      \n",
    "t.write(\"거북이가 여기로 오면 양수입니다.\") \n",
    "t.goto(100, 0) \n",
    "t.write(\"거북이가 여기로 오면 0입니다.\") \n",
    "t.goto(100, -100) \n",
    "t.write(\"거북이가 여기로 오면 음수입니다.\") \n",
    " \n",
    "t.goto(0, 0)           \n",
    "t.pendown()          \n",
    "\n",
    "s = t.textinput(\"\", \"숫자를 입력하시오: \") \n",
    "n = int(s) \n",
    "\n",
    "if n > 0 : \n",
    "    t.goto(100, 100) \n",
    "if n == 0 : \n",
    "    t.goto(100, 0) \n",
    "if n < 0 : \n",
    "    t.goto(100, -100) "
   ]
  },
  {
   "cell_type": "code",
   "execution_count": 9,
   "id": "597d584a",
   "metadata": {},
   "outputs": [
    {
     "name": "stdout",
     "output_type": "stream",
     "text": [
      "나이를 입력하시오: 19\n",
      "본 영화를 보실 수 있습니다.\n"
     ]
    }
   ],
   "source": [
    "#4-2\n",
    "age = int(input(\"나이를 입력하시오: \"))\n",
    "if age >= 15:\n",
    "    print(\"본 영화를 보실 수 있습니다.\")\n",
    "else:\n",
    "    print(\"본 영화를 보실 수 없습니다.\")"
   ]
  },
  {
   "cell_type": "code",
   "execution_count": null,
   "id": "aea8fe6c",
   "metadata": {},
   "outputs": [],
   "source": [
    "#4-3\n",
    "import turtle \n",
    " \n",
    "t = turtle.Turtle()  \n",
    "t.shape(\"turtle\")   \n",
    "t.width(3) \n",
    "t.shapesize(3, 3) \n",
    " \n",
    "while True: \n",
    "    command = input(\"명령을 입력하시오: \") \n",
    "    if command == \"l\":       \n",
    "        t.left(90)          \n",
    "        t.forward(100) \n",
    "    if command == \"r\":       \n",
    "        t.right(90)       \n",
    "        t.forward(100)"
   ]
  },
  {
   "cell_type": "code",
   "execution_count": null,
   "id": "db167fc6",
   "metadata": {},
   "outputs": [],
   "source": []
  }
 ],
 "metadata": {
  "kernelspec": {
   "display_name": "Python 3 (ipykernel)",
   "language": "python",
   "name": "python3"
  },
  "language_info": {
   "codemirror_mode": {
    "name": "ipython",
    "version": 3
   },
   "file_extension": ".py",
   "mimetype": "text/x-python",
   "name": "python",
   "nbconvert_exporter": "python",
   "pygments_lexer": "ipython3",
   "version": "3.9.13"
  }
 },
 "nbformat": 4,
 "nbformat_minor": 5
}
